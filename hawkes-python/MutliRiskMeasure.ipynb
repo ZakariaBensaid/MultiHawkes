{
 "cells": [
  {
   "cell_type": "code",
   "execution_count": 1,
   "metadata": {},
   "outputs": [],
   "source": [
    "#Set the path to the hawkes library\n",
    "import os \n",
    "import sys\n",
    "\n",
    "module_dir = os.path.join(\"..\", 'build') # path to the hawkes library and sometimes it's 'build\\Debug' or 'build\\Release' for windows    \n",
    "sys.path.insert(0, module_dir)"
   ]
  },
  {
   "cell_type": "code",
   "execution_count": 2,
   "metadata": {},
   "outputs": [
    {
     "name": "stderr",
     "output_type": "stream",
     "text": [
      "2025-01-26 14:50:34.970699: E external/local_xla/xla/stream_executor/cuda/cuda_fft.cc:477] Unable to register cuFFT factory: Attempting to register factory for plugin cuFFT when one has already been registered\n",
      "WARNING: All log messages before absl::InitializeLog() is called are written to STDERR\n",
      "E0000 00:00:1737903035.034716   23108 cuda_dnn.cc:8310] Unable to register cuDNN factory: Attempting to register factory for plugin cuDNN when one has already been registered\n",
      "E0000 00:00:1737903035.054448   23108 cuda_blas.cc:1418] Unable to register cuBLAS factory: Attempting to register factory for plugin cuBLAS when one has already been registered\n",
      "2025-01-26 14:50:35.107227: I tensorflow/core/platform/cpu_feature_guard.cc:210] This TensorFlow binary is optimized to use available CPU instructions in performance-critical operations.\n",
      "To enable the following instructions: AVX2 FMA, in other operations, rebuild TensorFlow with the appropriate compiler flags.\n"
     ]
    }
   ],
   "source": [
    "import hawkes\n",
    "import matplotlib.pyplot as plt\n",
    "import numpy as np\n",
    "import seaborn as sns\n",
    "import tensorflow as tf\n",
    "from tensorflow.keras import layers, optimizers\n",
    "import matplotlib.colors as mcolors\n",
    "import time\n",
    "from mpl_toolkits.axes_grid1.inset_locator import zoomed_inset_axes, mark_inset\n",
    "tf.config.run_functions_eagerly(True)"
   ]
  },
  {
   "cell_type": "markdown",
   "metadata": {},
   "source": [
    "# SRM Model"
   ]
  },
  {
   "cell_type": "code",
   "execution_count": 3,
   "metadata": {},
   "outputs": [],
   "source": [
    "class SRMModelExpPoisson():\n",
    "    def __init__(self, dimension, listOfAlphas, meanJumps, sigmaJumps, nbThreads, mu, alpha, beta, T):\n",
    "      self.d = dimension\n",
    "      self.baseline = mu\n",
    "      self.inhomo = alpha\n",
    "      self.beta = beta\n",
    "      self.horizon = T\n",
    "      self.nbThreads = nbThreads\n",
    "      self.alpha = listOfAlphas\n",
    "      self.meanJ = meanJumps\n",
    "      self.sigmaJ = sigmaJumps\n",
    "\n",
    "\n",
    "    def simulateRiskFactors(self, nbSimul):\n",
    "      hawkes_samples =  np.array(hawkes.SimulateHawkes(nbSimul, self.nbThreads, self.baseline, self.inhomo, self.beta, self.horizon, False)[0])\n",
    "      #normal_samples = np.random.normal(loc=self.meanJ, scale=self.sigmaJ, size=[nbSimul, self.d])*hawkes_samples\n",
    "      gamma_samples = np.random.gamma(shape = self.meanJ, scale=self.sigmaJ, size = [nbSimul, self.d])*hawkes_samples\n",
    "      return gamma_samples.astype(np.float32)\n",
    "    \n",
    "    def U(self, X, Y):\n",
    "        return tf.reduce_mean(tf.math.reduce_sum(tf.maximum(X - Y,0), axis = 1) - 0.5*tf.math.reduce_sum(tf.maximum(Y - X,0), axis = 1))\n"
   ]
  },
  {
   "cell_type": "markdown",
   "metadata": {},
   "source": [
    "# Neural networks Config"
   ]
  },
  {
   "cell_type": "code",
   "execution_count": 7,
   "metadata": {},
   "outputs": [],
   "source": [
    "#Let's define the Neural network\n",
    "################################################################################\n",
    "\n",
    "class Net(tf.keras.Model):\n",
    "    def __init__( self, ndimOut, nbNeurons, activation= tf.nn.tanh):\n",
    "        super().__init__()\n",
    "        self.nbNeurons = nbNeurons\n",
    "        self.name_ = \"FeedForward\"\n",
    "        self.ndimOut= ndimOut\n",
    "        self.ListOfDense =  [layers.Dense( nbNeurons[i],activation= activation, kernel_initializer= tf.keras.initializers.GlorotNormal())  for i in range(len(nbNeurons)) ]+[layers.Dense(ndimOut, activation= None, kernel_initializer= tf.keras.initializers.GlorotNormal())]\n",
    "\n",
    "\n",
    "    def call(self,inputs):\n",
    "        x = inputs\n",
    "        for layer in self.ListOfDense:\n",
    "            x = layer(x)\n",
    "        return x\n",
    "\n",
    "class NetDeterministic(tf.keras.Model):\n",
    "    def __init__( self, ndimOut):\n",
    "        super().__init__()\n",
    "        self.name_ = \"TrainableVariables\"\n",
    "        self.ndimOut= ndimOut\n",
    "        self.add_weight(name = 'Variables', shape = (self.ndimOut,), initializer = tf.keras.initializers.GlorotNormal(), trainable = True)\n",
    "\n",
    "\n",
    "    def call(self,inputs):\n",
    "        return tf.broadcast_to(self.Variables, [inputs.shape[0], self.ndimOut])\n",
    "\n",
    "class DualVariables(tf.keras.Model):\n",
    "    def __init__(self):\n",
    "        super().__init__()\n",
    "        self.name_ = 'DualVariables'\n",
    "        self.lam = self.add_weight(name='lam', shape=[], initializer=tf.keras.initializers.GlorotNormal(), trainable=True, dtype=tf.float32)\n",
    "        self.mu = self.add_weight(name='mu', shape=[], initializer=tf.keras.initializers.GlorotNormal(), trainable=True, dtype=tf.float32)"
   ]
  },
  {
   "cell_type": "markdown",
   "metadata": {},
   "source": [
    "# SRM Solver"
   ]
  },
  {
   "cell_type": "code",
   "execution_count": 4,
   "metadata": {},
   "outputs": [],
   "source": [
    "#Let's train the Neural Network\n",
    "################################################################################\n",
    "\n",
    "class SRMSolver():\n",
    "  def __init__(self, SRMModel, Network, DualVariables, learningRate):\n",
    "    self.SRM = SRMModel\n",
    "    self.Net = Network\n",
    "    self.DV = DualVariables\n",
    "    self.lRate = learningRate\n",
    "\n",
    "  def train(self,  batchSize,  batchSizeVal, num_epoch, num_epochExt):\n",
    "    @tf.function\n",
    "    def optimizePrimal(nbSimul):\n",
    "      X = self.SRM.simulateRiskFactors(nbSimul)\n",
    "      Xnorm = X\n",
    "      #Xnorm =  (X - tf.reduce_mean(X, axis=0)) / tf.math.reduce_std(X, axis=0)\n",
    "      Gamma = tf.math.abs(tf.reduce_sum(self.Net(Xnorm), axis = 1)  - tf.reduce_mean(tf.reduce_sum(self.Net(Xnorm), axis = 1)))\n",
    "      return tf.reduce_mean(tf.reduce_sum(self.Net(Xnorm), axis = 1)) + (self.DV.mu**2)*tf.reduce_mean(Gamma) + (self.DV.lam**2)*(self.SRM.U(X, self.Net(Xnorm)))\n",
    "\n",
    "    # train to optimize control\n",
    "    @tf.function\n",
    "    def trainOpt(nbSimul, optimizer):\n",
    "        with tf.GradientTape(persistent=True) as tape:\n",
    "            objFuncPrimal = optimizePrimal(nbSimul)\n",
    "            objFuncDual = -optimizePrimal(nbSimul)\n",
    "        gradientsPrimal = tape.gradient(objFuncPrimal, self.Net.trainable_variables)\n",
    "        gradientsDual = tape.gradient(objFuncDual, self.DV.trainable_variables)\n",
    "        optimizer.apply_gradients(zip(gradientsPrimal + gradientsDual\\\n",
    "                                      , self.Net.trainable_variables + \\\n",
    "                                        self.DV.trainable_variables))\n",
    "\n",
    "        del tape\n",
    "        return objFuncPrimal\n",
    "\n",
    "    # set the ADAM optimizer\n",
    "    optimizer= optimizers.Adam(learning_rate = self.lRate)\n",
    "    listRho = []\n",
    "    for iout in range(num_epochExt):\n",
    "      start_time = time.time()\n",
    "      for epoch in range(num_epoch):\n",
    "          # un pas de gradient stochastique\n",
    "          trainOpt(batchSize, optimizer)\n",
    "      end_time = time.time()\n",
    "      rtime = end_time-start_time\n",
    "      objError = optimizePrimal(batchSizeVal)\n",
    "      print('estimated SRM' , objError.numpy(), 'dv', self.DV.lam.numpy(), \" took %5.3f s\" % rtime, 'epoch', iout)\n",
    "      listRho.append(objError)\n",
    "    return listRho"
   ]
  },
  {
   "cell_type": "markdown",
   "metadata": {},
   "source": [
    "# Main"
   ]
  },
  {
   "cell_type": "code",
   "execution_count": 5,
   "metadata": {},
   "outputs": [],
   "source": [
    "#Parameters\n",
    "################################################################################\n",
    "#Deep learning model\n",
    "nbNeurons = 64\n",
    "nbLayer = 2\n",
    "layerSize = nbNeurons*np.ones((nbLayer,), dtype=np.int32)\n",
    "num_epochExt = 150\n",
    "num_epoch = 1000\n",
    "batchSize = 100\n",
    "lRate = 3e-5\n",
    "activation = tf.nn.tanh\n",
    "\n",
    "#SRM model\n",
    "utility = 'relu'\n",
    "riskFactorDistribution = 'Hawkes'\n",
    "\n",
    "if utility == 'relu' and riskFactorDistribution == 'Hawkes':\n",
    "    d = 10\n",
    "    listalpha = np.array([1.11, 1.20, 1.36, 1.89, 1.94, 2.5, 4.0, 1.9, 1.1, 1.2]).astype(np.float32)\n",
    "    meanJumps = np.ones(d)\n",
    "    volJumps = 2*np.ones(d)\n",
    "    # Test the simulate_hawkes function\n",
    "    mu = np.array([2.0, 1.5, 0.01, 0.1, 0.8, 2.0, 0.3, 0.2, 0.5, 0.01])\n",
    "    alpha = np.array([\n",
    "        [0.5, 0.1, 3.0, 2.0, 0.4, 2.4, 0.1, 1.5, 0.1, 0.1],\n",
    "        [0.2, 0.6, 3.0, 0.1, 0.2, 0.1, 0.7, 1.2, 0.1, 0.5],\n",
    "        [3.5, 3.0, 4.0, 3.0, 0.1, 2.0, 0.2, 1.3, 0.1, 2.0],\n",
    "        [0.1, 0.2, 0.2, 0.5, 0.1, 0.1, 0.1, 0.2, 0.1, 2.0],\n",
    "        [0.3, 0.1, 1.1, 1.0, 0.6, 0.8, 0.1, 1.5, 0.1, 0.1],\n",
    "        [0.1, 0.2, 0.1, 0.1, 0.1, 0.4, 0.2, 0.1, 0.1, 3.],\n",
    "        [0.1, 0.2, 2.0, 3.0, 0.5, 0.1, 0.3, 0.1, 0.5, 0.1],\n",
    "        [3.0, 0.1, 0.3, 0.2, 0.4, 0.1, 0.1, 0.3, 0.6, 0.1],\n",
    "        [0.1, 0.1, 0.1, 2.3, 0.1, 0.1, 3.0, 0.1, 0.1, 0.1],\n",
    "        [0.0, 0.0, 0.0, 0.0, 0.0, 0.0, 0.0, 0.0, 0.0, 2.0]\n",
    "    ])\n",
    "    beta = 2*np.array([\n",
    "        [5.0, 5.0, 5.0, 7.5, 4.0, 5.0, 0.5, 5.0, 5.0, 5.0],\n",
    "        [4.5, 6.0, 7.5, 4.0, 5.0, 5.5, 5.0, 3.0, 5.0, 5.0],\n",
    "        [5.0, 5.5, 6.0, 4.5, 6.5, 7.0, 4.0, 2.0, 5.0, 5.0],\n",
    "        [1.0, 5.0, 2.5, 3.0, 4.5, 1.5, 1.0, 3.0, 5.0, 5.0],\n",
    "        [0.5, 5.0, 2.0, 1.5, 5.0, 1.0, 1.5, 2.0, 5.0, 5.0],\n",
    "        [4.5, 7.0, 7.5, 3.0, 6.0, 5.0, 6.5, 0.5, 5.0, 5.0],\n",
    "        [4.0, 6.5, 8.0, 3.5, 5.0, 6.0, 5.5, 0.5, 5.0, 5.0],\n",
    "        [4.5, 6.0, 8.5, 4.0, 5.5, 6.5, 6.0, 0.5, 5.0, 5.0],\n",
    "        [5.0, 5.0, 5.0, 5.0, 5.0, 5.0, 5.0, 5.0, 5.0, 5.0],\n",
    "        [5.0, 5.0, 5.0, 5.0, 5.0, 5.0, 5.0, 5.0, 5.0, 5.0]\n",
    "    ])\n",
    "    T = 1.0\n",
    "    nbThreads = 10"
   ]
  },
  {
   "cell_type": "code",
   "execution_count": null,
   "metadata": {},
   "outputs": [
    {
     "name": "stderr",
     "output_type": "stream",
     "text": [
      "2025-01-26 15:31:35.480870: E external/local_xla/xla/stream_executor/cuda/cuda_driver.cc:152] failed call to cuInit: INTERNAL: CUDA error: Failed call to cuInit: CUDA_ERROR_NO_DEVICE: no CUDA-capable device is detected\n"
     ]
    }
   ],
   "source": [
    "#SOLVE\n",
    "################################################################################\n",
    "SRM = []\n",
    "for _ in range(1):\n",
    "    modelSRM = SRMModelExpPoisson(d, listalpha, meanJumps, volJumps, nbThreads, mu, alpha, beta, T)\n",
    "    NN = Net(d, layerSize, activation)\n",
    "    DualVar = DualVariables()\n",
    "    solver = SRMSolver(modelSRM, NN, DualVar, lRate)\n",
    "    listRho = solver.train(batchSize, 10*batchSize, num_epoch, num_epochExt)\n",
    "    fig, ax = plt.subplots(figsize=(10, 6))\n",
    "    ax.plot(listRho, label = 'estimated' + r' $\\rho_X$')\n",
    "    #ax.plot(theoretical_value*np.ones(num_epochExt), label = 'explicit formula', linestyle = 'dashed')\n",
    "    ax.set_title('Convergence of the primal algorithm')\n",
    "    ax.set_xlabel('epochs')\n",
    "    ax.legend()\n",
    "    ax.grid(True)\n",
    "    # Create the inset plot for zooming into the last few iterations\n",
    "    zoom_start = 140  # Start zooming in from this epoch\n",
    "    axins = zoomed_inset_axes(ax, zoom=2, loc='right')\n",
    "    axins.plot(listRho, color='blue')\n",
    "    axins.set_xlim(zoom_start, 150)  # Limit the x-axis to the last few iterations\n",
    "    axins.set_ylim(min(listRho[zoom_start:]), max(listRho[zoom_start:]))\n",
    "    axins.grid(True)\n",
    "\n",
    "    # Mark the region of the main plot that is zoomed in\n",
    "    mark_inset(ax, axins, loc1=2, loc2=4, fc=\"none\", ec=\"0.5\")\n",
    "\n",
    "    plt.show()\n",
    "    SRM.append(listRho[-1])"
   ]
  },
  {
   "cell_type": "code",
   "execution_count": 83,
   "metadata": {},
   "outputs": [
    {
     "data": {
      "image/png": "[encoded data removed]",
      "text/plain": [
       "<Figure size 1000x600 with 2 Axes>"
      ]
     },
     "metadata": {},
     "output_type": "display_data"
    }
   ],
   "source": [
    "fig, ax = plt.subplots(figsize=(10, 6))\n",
    "ax.plot(listRho, label = 'estimated' + r' $\\rho_X$')\n",
    "#ax.plot(theoretical_value*np.ones(num_epochExt), label = 'explicit formula', linestyle = 'dashed')\n",
    "ax.set_title('Convergence of the primal algorithm')\n",
    "ax.set_xlabel('epochs')\n",
    "ax.legend()\n",
    "ax.grid(True)\n",
    "# Create the inset plot for zooming into the last few iterations\n",
    "zoom_start = 130  # Start zooming in from this epoch\n",
    "axins = zoomed_inset_axes(ax, zoom=2, loc='right')\n",
    "axins.plot(listRho, color='blue')\n",
    "axins.set_xlim(zoom_start, 150)  # Limit the x-axis to the last few iterations\n",
    "axins.set_ylim(min(listRho[zoom_start:]), max(listRho[zoom_start:]))\n",
    "axins.grid(True)\n",
    "\n",
    "# Mark the region of the main plot that is zoomed in\n",
    "mark_inset(ax, axins, loc1=2, loc2=4, fc=\"none\", ec=\"0.5\")\n",
    "\n",
    "plt.show()"
   ]
  }
 ],
 "metadata": {
  "kernelspec": {
   "display_name": ".venv",
   "language": "python",
   "name": "python3"
  },
  "language_info": {
   "codemirror_mode": {
    "name": "ipython",
    "version": 3
   },
   "file_extension": ".py",
   "mimetype": "text/x-python",
   "name": "python",
   "nbconvert_exporter": "python",
   "pygments_lexer": "ipython3",
   "version": "3.12.3"
  }
 },
 "nbformat": 4,
 "nbformat_minor": 2
}
